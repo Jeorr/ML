{
  "nbformat": 4,
  "nbformat_minor": 0,
  "metadata": {
    "colab": {
      "provenance": [],
      "gpuType": "T4",
      "authorship_tag": "ABX9TyNBR3QOLvAdsUSdl9QYwU7A",
      "include_colab_link": true
    },
    "kernelspec": {
      "name": "python3",
      "display_name": "Python 3"
    },
    "language_info": {
      "name": "python"
    },
    "accelerator": "GPU"
  },
  "cells": [
    {
      "cell_type": "markdown",
      "metadata": {
        "id": "view-in-github",
        "colab_type": "text"
      },
      "source": [
        "<a href=\"https://colab.research.google.com/github/Jeorr/ML/blob/main/Lab1PyTorch.ipynb\" target=\"_parent\"><img src=\"https://colab.research.google.com/assets/colab-badge.svg\" alt=\"Open In Colab\"/></a>"
      ]
    },
    {
      "cell_type": "code",
      "execution_count": null,
      "metadata": {
        "colab": {
          "base_uri": "https://localhost:8080/"
        },
        "id": "-qt27bQxFfCg",
        "outputId": "845abf38-779b-44bd-d347-792a944aca4b"
      },
      "outputs": [
        {
          "output_type": "stream",
          "name": "stdout",
          "text": [
            "Epoch [10/150], Loss: 322406080.0000\n",
            "Epoch [20/150], Loss: 322242336.0000\n",
            "Epoch [30/150], Loss: 321807488.0000\n",
            "Epoch [40/150], Loss: 320846816.0000\n",
            "Epoch [50/150], Loss: 318976448.0000\n",
            "Epoch [60/150], Loss: 315601408.0000\n",
            "Epoch [70/150], Loss: 309923040.0000\n",
            "Epoch [80/150], Loss: 301071936.0000\n",
            "Epoch [90/150], Loss: 288078848.0000\n",
            "Epoch [100/150], Loss: 269266304.0000\n",
            "Epoch [110/150], Loss: 244908400.0000\n",
            "Epoch [120/150], Loss: 213621776.0000\n",
            "Epoch [130/150], Loss: 178289248.0000\n",
            "Epoch [140/150], Loss: 142153472.0000\n",
            "Epoch [150/150], Loss: 108326216.0000\n",
            "Mean Absolute Error (MAE): 6554.75732421875\n",
            "Mean Squared Error (MSE): 104056680.0\n",
            "MAE = 6554.75732421875 є занадто великим.\n",
            "MSE = 104056680.0 є прийнятним в порівнянні з квадратом середнього.\n"
          ]
        }
      ],
      "source": [
        "# Встановлення бібліотек\n",
        "import pandas as pd\n",
        "import numpy as np\n",
        "import torch\n",
        "import torch.nn as nn\n",
        "import torch.optim as optim\n",
        "from sklearn.model_selection import train_test_split\n",
        "from sklearn.preprocessing import StandardScaler, LabelEncoder\n",
        "from sklearn.metrics import mean_absolute_error, mean_squared_error\n",
        "\n",
        "# Завантаження даних\n",
        "url = \"https://raw.githubusercontent.com/stedy/Machine-Learning-with-R-datasets/refs/heads/master/insurance.csv\"\n",
        "data = pd.read_csv(url)\n",
        "\n",
        "# Перетворення номінативних даних на числові за допомогою LabelEncoder\n",
        "label_encoder = LabelEncoder()\n",
        "data['sex'] = label_encoder.fit_transform(data['sex'])\n",
        "data['smoker'] = label_encoder.fit_transform(data['smoker'])\n",
        "data['region'] = label_encoder.fit_transform(data['region'])\n",
        "\n",
        "# Визначення вхідних та цільових змінних\n",
        "X = data.drop(['charges'], axis=1).values  # Всі змінні, крім 'charges', є вхідними\n",
        "y = data['charges'].values  # 'charges' — цільова змінна\n",
        "\n",
        "# Розділення на тренувальні та тестові набори (80% на тренування, 20% на тестування)\n",
        "X_train, X_test, y_train, y_test = train_test_split(X, y, test_size=0.2, random_state=42)\n",
        "\n",
        "# Нормалізація даних\n",
        "scaler = StandardScaler()\n",
        "X_train = scaler.fit_transform(X_train)\n",
        "X_test = scaler.transform(X_test)\n",
        "\n",
        "# Перетворення даних у тензори PyTorch\n",
        "X_train_tensor = torch.tensor(X_train, dtype=torch.float32)\n",
        "y_train_tensor = torch.tensor(y_train, dtype=torch.float32).view(-1, 1)  # Зміна форми для виходу\n",
        "X_test_tensor = torch.tensor(X_test, dtype=torch.float32)\n",
        "y_test_tensor = torch.tensor(y_test, dtype=torch.float32).view(-1, 1)\n",
        "\n",
        "# Створення моделі нейронної мережі\n",
        "class InsuranceModel(nn.Module):\n",
        "    def __init__(self):\n",
        "        super(InsuranceModel, self).__init__()\n",
        "        self.fc1 = nn.Linear(6, 256)  # Вхідний шар\n",
        "        self.fc2 = nn.Linear(256, 128)  # Другий шар\n",
        "        self.fc3 = nn.Linear(128, 64)  # Третій шар\n",
        "        self.fc4 = nn.Linear(64, 1)  # Вихідний шар\n",
        "\n",
        "    def forward(self, x):\n",
        "        x = torch.relu(self.fc1(x))\n",
        "        x = nn.Dropout(0.2)(x)  # Додаємо Dropout, без параметра training\n",
        "        x = torch.relu(self.fc2(x))\n",
        "        x = nn.Dropout(0.2)(x)  # Додаємо Dropout, без параметра training\n",
        "        x = torch.relu(self.fc3(x))\n",
        "        x = self.fc4(x)  # Вихід\n",
        "        return x\n",
        "\n",
        "# Ініціалізація моделі\n",
        "model = InsuranceModel()\n",
        "\n",
        "# Визначення втрат і оптимізатора\n",
        "criterion = nn.MSELoss()  # Використання середньоквадратичної помилки\n",
        "optimizer = optim.Adam(model.parameters(), lr=0.001)\n",
        "\n",
        "# Навчання моделі\n",
        "epochs = 150\n",
        "for epoch in range(epochs):\n",
        "    model.train()  # Переведення моделі в режим навчання\n",
        "    optimizer.zero_grad()  # Обнулення градієнтів\n",
        "    y_pred = model(X_train_tensor)  # Прогнозування\n",
        "    loss = criterion(y_pred, y_train_tensor)  # Обчислення втрат\n",
        "    loss.backward()  # Обчислення градієнтів\n",
        "    optimizer.step()  # Оновлення ваг моделі\n",
        "\n",
        "    # Вивід втрат на кожній 10-й епосі\n",
        "    if (epoch+1) % 10 == 0:\n",
        "        print(f'Epoch [{epoch+1}/{epochs}], Loss: {loss.item():.4f}')\n",
        "\n",
        "# Прогнозування на тестовій вибірці\n",
        "model.eval()  # Переведення моделі в режим оцінки\n",
        "with torch.no_grad():  # Без обчислення градієнтів\n",
        "    y_test_pred = model(X_test_tensor)\n",
        "\n",
        "# Обчислення метрик MAE та MSE\n",
        "mae = mean_absolute_error(y_test_tensor.numpy(), y_test_pred.numpy())\n",
        "mse = mean_squared_error(y_test_tensor.numpy(), y_test_pred.numpy())\n",
        "\n",
        "# Виведення результатів\n",
        "print(f'Mean Absolute Error (MAE): {mae}')\n",
        "print(f'Mean Squared Error (MSE): {mse}')\n",
        "\n",
        "# Перевірка, чи MAE є прийнятним\n",
        "acceptable_mae = np.mean(y) * 0.1  # 10% від середньої вартості\n",
        "\n",
        "if mae <= acceptable_mae:\n",
        "    print(f\"MAE = {mae} є прийнятним.\")\n",
        "else:\n",
        "    print(f\"MAE = {mae} є занадто великим.\")\n",
        "\n",
        "# Додатково, ви можете порівняти MSE з квадратом середнього\n",
        "mse_comparison = np.mean(y) ** 2\n",
        "\n",
        "if mse <= mse_comparison:\n",
        "    print(f\"MSE = {mse} є прийнятним в порівнянні з квадратом середнього.\")\n",
        "else:\n",
        "    print(f\"MSE = {mse} є занадто великим.\")\n"
      ]
    },
    {
      "cell_type": "code",
      "source": [],
      "metadata": {
        "id": "l0f0ZlpfYuGH"
      },
      "execution_count": null,
      "outputs": []
    }
  ]
}